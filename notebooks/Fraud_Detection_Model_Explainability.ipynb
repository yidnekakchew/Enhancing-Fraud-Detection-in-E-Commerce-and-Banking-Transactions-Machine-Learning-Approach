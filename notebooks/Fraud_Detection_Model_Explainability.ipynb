{
  "nbformat": 4,
  "nbformat_minor": 0,
  "metadata": {
    "colab": {
      "provenance": []
    },
    "kernelspec": {
      "name": "python3",
      "display_name": "Python 3"
    },
    "language_info": {
      "name": "python"
    }
  },
  "cells": [
    {
      "cell_type": "code",
      "source": [
        "!pip install lime"
      ],
      "metadata": {
        "colab": {
          "base_uri": "https://localhost:8080/"
        },
        "id": "ls_DXkNEhgAc",
        "outputId": "9707eb2c-21de-417b-87d7-4e0168200c48"
      },
      "execution_count": 3,
      "outputs": [
        {
          "output_type": "stream",
          "name": "stdout",
          "text": [
            "Collecting lime\n",
            "  Downloading lime-0.2.0.1.tar.gz (275 kB)\n",
            "\u001b[?25l     \u001b[90m━━━━━━━━━━━━━━━━━━━━━━━━━━━━━━━━━━━━━━━━\u001b[0m \u001b[32m0.0/275.7 kB\u001b[0m \u001b[31m?\u001b[0m eta \u001b[36m-:--:--\u001b[0m\r\u001b[2K     \u001b[91m━━━━━━━━━━━━━━━━━━━━━━━━━━━━━━━━━━━━━━\u001b[0m\u001b[91m╸\u001b[0m\u001b[90m━\u001b[0m \u001b[32m266.2/275.7 kB\u001b[0m \u001b[31m8.4 MB/s\u001b[0m eta \u001b[36m0:00:01\u001b[0m\r\u001b[2K     \u001b[90m━━━━━━━━━━━━━━━━━━━━━━━━━━━━━━━━━━━━━━━━\u001b[0m \u001b[32m275.7/275.7 kB\u001b[0m \u001b[31m6.2 MB/s\u001b[0m eta \u001b[36m0:00:00\u001b[0m\n",
            "\u001b[?25h  Preparing metadata (setup.py) ... \u001b[?25l\u001b[?25hdone\n",
            "Requirement already satisfied: matplotlib in /usr/local/lib/python3.10/dist-packages (from lime) (3.7.1)\n",
            "Requirement already satisfied: numpy in /usr/local/lib/python3.10/dist-packages (from lime) (1.26.4)\n",
            "Requirement already satisfied: scipy in /usr/local/lib/python3.10/dist-packages (from lime) (1.13.1)\n",
            "Requirement already satisfied: tqdm in /usr/local/lib/python3.10/dist-packages (from lime) (4.66.5)\n",
            "Requirement already satisfied: scikit-learn>=0.18 in /usr/local/lib/python3.10/dist-packages (from lime) (1.5.2)\n",
            "Requirement already satisfied: scikit-image>=0.12 in /usr/local/lib/python3.10/dist-packages (from lime) (0.24.0)\n",
            "Requirement already satisfied: networkx>=2.8 in /usr/local/lib/python3.10/dist-packages (from scikit-image>=0.12->lime) (3.4.2)\n",
            "Requirement already satisfied: pillow>=9.1 in /usr/local/lib/python3.10/dist-packages (from scikit-image>=0.12->lime) (10.4.0)\n",
            "Requirement already satisfied: imageio>=2.33 in /usr/local/lib/python3.10/dist-packages (from scikit-image>=0.12->lime) (2.35.1)\n",
            "Requirement already satisfied: tifffile>=2022.8.12 in /usr/local/lib/python3.10/dist-packages (from scikit-image>=0.12->lime) (2024.9.20)\n",
            "Requirement already satisfied: packaging>=21 in /usr/local/lib/python3.10/dist-packages (from scikit-image>=0.12->lime) (24.1)\n",
            "Requirement already satisfied: lazy-loader>=0.4 in /usr/local/lib/python3.10/dist-packages (from scikit-image>=0.12->lime) (0.4)\n",
            "Requirement already satisfied: joblib>=1.2.0 in /usr/local/lib/python3.10/dist-packages (from scikit-learn>=0.18->lime) (1.4.2)\n",
            "Requirement already satisfied: threadpoolctl>=3.1.0 in /usr/local/lib/python3.10/dist-packages (from scikit-learn>=0.18->lime) (3.5.0)\n",
            "Requirement already satisfied: contourpy>=1.0.1 in /usr/local/lib/python3.10/dist-packages (from matplotlib->lime) (1.3.0)\n",
            "Requirement already satisfied: cycler>=0.10 in /usr/local/lib/python3.10/dist-packages (from matplotlib->lime) (0.12.1)\n",
            "Requirement already satisfied: fonttools>=4.22.0 in /usr/local/lib/python3.10/dist-packages (from matplotlib->lime) (4.54.1)\n",
            "Requirement already satisfied: kiwisolver>=1.0.1 in /usr/local/lib/python3.10/dist-packages (from matplotlib->lime) (1.4.7)\n",
            "Requirement already satisfied: pyparsing>=2.3.1 in /usr/local/lib/python3.10/dist-packages (from matplotlib->lime) (3.2.0)\n",
            "Requirement already satisfied: python-dateutil>=2.7 in /usr/local/lib/python3.10/dist-packages (from matplotlib->lime) (2.8.2)\n",
            "Requirement already satisfied: six>=1.5 in /usr/local/lib/python3.10/dist-packages (from python-dateutil>=2.7->matplotlib->lime) (1.16.0)\n",
            "Building wheels for collected packages: lime\n",
            "  Building wheel for lime (setup.py) ... \u001b[?25l\u001b[?25hdone\n",
            "  Created wheel for lime: filename=lime-0.2.0.1-py3-none-any.whl size=283834 sha256=39856e1c025c4f3681054841e3f0c6f2bf059b50b77756a0f6652254ab805f49\n",
            "  Stored in directory: /root/.cache/pip/wheels/fd/a2/af/9ac0a1a85a27f314a06b39e1f492bee1547d52549a4606ed89\n",
            "Successfully built lime\n",
            "Installing collected packages: lime\n",
            "Successfully installed lime-0.2.0.1\n"
          ]
        }
      ]
    },
    {
      "cell_type": "code",
      "execution_count": 6,
      "metadata": {
        "colab": {
          "base_uri": "https://localhost:8080/"
        },
        "id": "DnQcFDWZf0Cy",
        "outputId": "e4edf1cf-3e3d-4226-e421-52f2c47d4485"
      },
      "outputs": [
        {
          "output_type": "stream",
          "name": "stdout",
          "text": [
            "E-commerce Fraud Data:\n",
            "   user_id          signup_time        purchase_time  purchase_value  \\\n",
            "0    22058  2015-02-24 22:55:49  2015-04-18 02:47:11              34   \n",
            "1   333320  2015-06-07 20:39:50  2015-06-08 01:38:54              16   \n",
            "2     1359  2015-01-01 18:52:44  2015-01-01 18:52:45              15   \n",
            "3   150084  2015-04-28 21:13:25  2015-05-04 13:54:50              44   \n",
            "4   221365  2015-07-21 07:09:52  2015-09-09 18:40:53              39   \n",
            "\n",
            "       device_id source browser sex  age    ip_address  class  \n",
            "0  QVPSPJUOCKZAR    SEO  Chrome   M   39  7.327584e+08      0  \n",
            "1  EOGFQPIZPYXFZ    Ads  Chrome   F   53  3.503114e+08      0  \n",
            "2  YSSKYOSJHPPLJ    SEO   Opera   M   53  2.621474e+09      1  \n",
            "3  ATGTXKYKUDUQN    SEO  Safari   M   41  3.840542e+09      0  \n",
            "4  NAUITBZFJKHWW    Ads  Safari   M   45  4.155831e+08      0  \n"
          ]
        }
      ],
      "source": [
        "# Fraud Detection Model Explainability using SHAP and LIME\n",
        "\n",
        "# Import necessary libraries\n",
        "import pandas as pd\n",
        "import numpy as np\n",
        "import shap\n",
        "import lime\n",
        "import lime.lime_tabular\n",
        "import matplotlib.pyplot as plt\n",
        "from sklearn.ensemble import RandomForestClassifier\n",
        "from sklearn.model_selection import train_test_split\n",
        "from sklearn.metrics import classification_report\n",
        "\n",
        "# ------------------------------\n",
        "# Section 1: Data Loading\n",
        "# ------------------------------\n",
        "# Load datasets\n",
        "fraud_data = pd.read_csv('Fraud_Data.csv')\n",
        "creditcard_data = pd.read_csv('creditcard.csv')\n",
        "\n",
        "# Display the first few rows of the e-commerce fraud data\n",
        "print(\"E-commerce Fraud Data:\")\n",
        "print(fraud_data.head())\n"
      ]
    },
    {
      "cell_type": "code",
      "source": [
        "# ------------------------------\n",
        "# Section 2: Data Preprocessing\n",
        "# ------------------------------\n",
        "# Convert timestamps to datetime\n",
        "fraud_data['signup_time'] = pd.to_datetime(fraud_data['signup_time'])\n",
        "fraud_data['purchase_time'] = pd.to_datetime(fraud_data['purchase_time'])\n",
        "\n",
        "# Drop columns not needed for modeling\n",
        "X = fraud_data.drop(columns=['class', 'user_id', 'device_id', 'signup_time', 'purchase_time'])\n",
        "y = fraud_data['class']\n",
        "\n",
        "# One-hot encode categorical features\n",
        "X = pd.get_dummies(X, drop_first=True)\n",
        "\n",
        "# Split the data\n",
        "X_train, X_test, y_train, y_test = train_test_split(X, y, test_size=0.2, random_state=42)\n",
        "\n",
        "print(\"Preprocessing completed. Training and test sets are ready.\")\n"
      ],
      "metadata": {
        "colab": {
          "base_uri": "https://localhost:8080/"
        },
        "id": "IjVUBSU7ik_9",
        "outputId": "95e65e71-2750-4cbc-d75c-d69b9d6f48ae"
      },
      "execution_count": 7,
      "outputs": [
        {
          "output_type": "stream",
          "name": "stdout",
          "text": [
            "Preprocessing completed. Training and test sets are ready.\n"
          ]
        }
      ]
    },
    {
      "cell_type": "code",
      "source": [
        "# ------------------------------\n",
        "# Section 3: Model Training\n",
        "# ------------------------------\n",
        "# Train a Random Forest model\n",
        "model = RandomForestClassifier(random_state=42)\n",
        "model.fit(X_train, y_train)\n",
        "\n",
        "# Evaluate the model\n",
        "y_pred = model.predict(X_test)\n",
        "report = classification_report(y_test, y_pred)\n",
        "print(\"Model Training and Evaluation Report:\")\n",
        "print(report)\n"
      ],
      "metadata": {
        "colab": {
          "base_uri": "https://localhost:8080/"
        },
        "id": "ErrTlgBBiniJ",
        "outputId": "2c0eefef-3c72-4b6a-92e0-de0fd545a2f1"
      },
      "execution_count": 8,
      "outputs": [
        {
          "output_type": "stream",
          "name": "stdout",
          "text": [
            "Model Training and Evaluation Report:\n",
            "              precision    recall  f1-score   support\n",
            "\n",
            "           0       0.95      0.99      0.97     19657\n",
            "           1       0.87      0.53      0.66      2030\n",
            "\n",
            "    accuracy                           0.95     21687\n",
            "   macro avg       0.91      0.76      0.82     21687\n",
            "weighted avg       0.95      0.95      0.94     21687\n",
            "\n"
          ]
        }
      ]
    },
    {
      "cell_type": "code",
      "source": [
        "# ------------------------------\n",
        "# Section 4: SHAP Explainability\n",
        "# ------------------------------\n",
        "# Initialize SHAP explainer\n",
        "explainer = shap.TreeExplainer(model)\n",
        "shap_values = explainer.shap_values(X_test)\n",
        "\n",
        "# SHAP Summary Plot\n",
        "plt.figure(figsize=(10, 6))\n",
        "shap.summary_plot(shap_values[1], X_test)\n",
        "plt.title('SHAP Summary Plot')\n",
        "plt.show()\n",
        "\n",
        "# SHAP Force Plot for a single prediction\n",
        "shap.initjs()\n",
        "sample_index = 0  # Change this index to visualize different samples\n",
        "shap.force_plot(explainer.expected_value[1], shap_values[1][sample_index], X_test.iloc[sample_index])\n",
        "plt.show()\n",
        "\n",
        "# SHAP Dependence Plot for a specific feature\n",
        "feature_name = 'purchase_value'  # Change as needed\n",
        "plt.figure(figsize=(10, 6))\n",
        "shap.dependence_plot(feature_name, shap_values[1], X_test)\n",
        "plt.title(f'SHAP Dependence Plot for {feature_name}')\n",
        "plt.show()\n"
      ],
      "metadata": {
        "id": "JamVlhGEixPB"
      },
      "execution_count": null,
      "outputs": []
    },
    {
      "cell_type": "code",
      "source": [
        "# ------------------------------\n",
        "# Section 5: LIME Explainability\n",
        "# ------------------------------\n",
        "# Initialize LIME explainer\n",
        "lime_explainer = lime.lime_tabular.LimeTabularExplainer(\n",
        "    training_data=np.array(X_train),\n",
        "    mode='classification',\n",
        "    feature_names=X_train.columns,\n",
        "    class_names=['Non-Fraud', 'Fraud'],\n",
        "    discretize_continuous=True\n",
        ")\n",
        "\n",
        "# Explain a single prediction\n",
        "sample_index = 0  # Change this index to visualize different samples\n",
        "lime_explanation = lime_explainer.explain_instance(\n",
        "    data_row=X_test.iloc[sample_index],\n",
        "    predict_fn=model.predict_proba\n",
        ")\n",
        "\n",
        "# LIME Feature Importance Plot\n",
        "lime_explanation.as_pyplot_figure()\n",
        "plt.title('LIME Feature Importance')\n",
        "plt.show()\n"
      ],
      "metadata": {
        "id": "gqXLEPQujHKS"
      },
      "execution_count": null,
      "outputs": []
    }
  ]
}