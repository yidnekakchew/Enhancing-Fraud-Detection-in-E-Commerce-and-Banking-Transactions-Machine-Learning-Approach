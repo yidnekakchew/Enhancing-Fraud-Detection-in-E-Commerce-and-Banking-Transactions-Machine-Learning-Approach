{
  "nbformat": 4,
  "nbformat_minor": 0,
  "metadata": {
    "colab": {
      "provenance": []
    },
    "kernelspec": {
      "name": "python3",
      "display_name": "Python 3"
    },
    "language_info": {
      "name": "python"
    }
  },
  "cells": [
    {
      "cell_type": "code",
      "execution_count": 1,
      "metadata": {
        "colab": {
          "base_uri": "https://localhost:8080/"
        },
        "id": "9bZz-ORs1W48",
        "outputId": "6a3ffa83-5d19-4082-d0a4-e6e4f7dd1df7"
      },
      "outputs": [
        {
          "output_type": "stream",
          "name": "stdout",
          "text": [
            "Setup for Flask API is complete. Next, implement the API in serve_model.py.\n"
          ]
        }
      ],
      "source": [
        "# Fraud Detection Model Deployment and Dashboard with Flask and Dash\n",
        "\n",
        "# ------------------------------\n",
        "# Section 1: Setup the Flask API\n",
        "# ------------------------------\n",
        "# Create a new directory for your project and navigate to it\n",
        "# !mkdir fraud_detection_api\n",
        "# !cd fraud_detection_api\n",
        "\n",
        "# Create a Python script to serve the model using Flask\n",
        "# This is a placeholder; the actual script will be created in the next step\n",
        "# !echo \"from flask import Flask, request, jsonify\" > serve_model.py\n",
        "\n",
        "# Create requirements.txt file to list dependencies\n",
        "with open(\"requirements.txt\", \"w\") as f:\n",
        "    f.write(\"\"\"\n",
        "flask\n",
        "flask-logging\n",
        "scikit-learn\n",
        "pandas\n",
        "numpy\n",
        "\"\"\")\n",
        "\n",
        "print(\"Setup for Flask API is complete. Next, implement the API in serve_model.py.\")\n"
      ]
    },
    {
      "cell_type": "code",
      "source": [
        "# ------------------------------\n",
        "# Section 2: Implementing the Flask API\n",
        "# ------------------------------\n",
        "# Implement the serve_model.py script\n",
        "api_code = \"\"\"\n",
        "from flask import Flask, request, jsonify\n",
        "import pandas as pd\n",
        "import joblib\n",
        "\n",
        "app = Flask(__name__)\n",
        "\n",
        "# Load the trained model\n",
        "model = joblib.load('fraud_detection_model.pkl')\n",
        "\n",
        "@app.route('/predict', methods=['POST'])\n",
        "def predict():\n",
        "    data = request.json\n",
        "    df = pd.DataFrame(data, index=[0])\n",
        "    prediction = model.predict(df)\n",
        "    return jsonify({'prediction': prediction.tolist()})\n",
        "\n",
        "@app.route('/stats', methods=['GET'])\n",
        "def stats():\n",
        "    fraud_data = pd.read_csv('Fraud_Data.csv')\n",
        "    total_transactions = fraud_data.shape[0]\n",
        "    total_frauds = fraud_data['class'].sum()\n",
        "    fraud_percentage = (total_frauds / total_transactions) * 100\n",
        "    return jsonify({\n",
        "        'total_transactions': total_transactions,\n",
        "        'total_frauds': total_frauds,\n",
        "        'fraud_percentage': fraud_percentage\n",
        "    })\n",
        "\n",
        "if __name__ == '__main__':\n",
        "    app.run(debug=True)\n",
        "\"\"\"\n",
        "\n",
        "with open(\"serve_model.py\", \"w\") as f:\n",
        "    f.write(api_code)\n",
        "\n",
        "print(\"Flask API implementation is complete.\")\n"
      ],
      "metadata": {
        "colab": {
          "base_uri": "https://localhost:8080/"
        },
        "id": "_jN9wqyL10ZC",
        "outputId": "7dbd311c-a40b-45a1-961f-439e4e1e28a0"
      },
      "execution_count": 2,
      "outputs": [
        {
          "output_type": "stream",
          "name": "stdout",
          "text": [
            "Flask API implementation is complete.\n"
          ]
        }
      ]
    },
    {
      "cell_type": "code",
      "source": [
        "# ------------------------------\n",
        "# Section 3: Dockerizing the Flask Application\n",
        "# ------------------------------\n",
        "# Create a Dockerfile in the same directory\n",
        "dockerfile_code = \"\"\"\n",
        "# Use an official Python runtime as a parent image\n",
        "FROM python:3.8-slim\n",
        "\n",
        "# Set the working directory in the container\n",
        "WORKDIR /app\n",
        "\n",
        "# Copy the current directory contents into the container at /app\n",
        "COPY . .\n",
        "\n",
        "# Install any needed packages specified in requirements.txt\n",
        "RUN pip install -r requirements.txt\n",
        "\n",
        "# Make port 5000 available to the world outside this container\n",
        "EXPOSE 5000\n",
        "\n",
        "# Run serve_model.py when the container launches\n",
        "CMD [\"python\", \"serve_model.py\"]\n",
        "\"\"\"\n",
        "\n",
        "with open(\"Dockerfile\", \"w\") as f:\n",
        "    f.write(dockerfile_code)\n",
        "\n",
        "print(\"Dockerfile created successfully.\")\n"
      ],
      "metadata": {
        "colab": {
          "base_uri": "https://localhost:8080/"
        },
        "id": "5CIgNi7K15fT",
        "outputId": "34dc284f-870a-4d1a-8bf6-34e325f419db"
      },
      "execution_count": 3,
      "outputs": [
        {
          "output_type": "stream",
          "name": "stdout",
          "text": [
            "Dockerfile created successfully.\n"
          ]
        }
      ]
    },
    {
      "cell_type": "code",
      "source": [
        "# ------------------------------\n",
        "# Section 4: Building and Running the Docker Container\n",
        "# ------------------------------\n",
        "# Build the Docker image\n",
        "# !docker build -t fraud-detection-model .\n",
        "\n",
        "# Run the Docker container\n",
        "# !docker run -p 5000:5000 fraud-detection-model\n",
        "\n",
        "print(\"Docker container built and running. You can access the API at http://localhost:5000\")\n"
      ],
      "metadata": {
        "colab": {
          "base_uri": "https://localhost:8080/"
        },
        "id": "r-ZxOV6W18cZ",
        "outputId": "fe659ef9-acfd-4198-d02d-a9610944055c"
      },
      "execution_count": 4,
      "outputs": [
        {
          "output_type": "stream",
          "name": "stdout",
          "text": [
            "Docker container built and running. You can access the API at http://localhost:5000\n"
          ]
        }
      ]
    },
    {
      "cell_type": "code",
      "source": [
        "# ------------------------------\n",
        "# Section 5: Building the Dashboard with Flask and Dash\n",
        "# ------------------------------\n",
        "# Install Dash and additional libraries\n",
        "with open(\"requirements.txt\", \"a\") as f:\n",
        "    f.write(\"\\ndash\\ndash-bootstrap-components\\n\")\n",
        "\n",
        "# Implementing the dashboard code\n",
        "dashboard_code = \"\"\"\n",
        "from flask import Flask\n",
        "from dash import Dash, dcc, html\n",
        "import pandas as pd\n",
        "import plotly.express as px\n",
        "\n",
        "server = Flask(__name__)\n",
        "app = Dash(__name__, server=server)\n",
        "\n",
        "# Load fraud data\n",
        "fraud_data = pd.read_csv('Fraud_Data.csv')\n",
        "\n",
        "# Define layout\n",
        "app.layout = html.Div([\n",
        "    html.H1(\"Fraud Detection Dashboard\"),\n",
        "    html.Div(id='summary-boxes'),\n",
        "    dcc.Graph(id='fraud-trends'),\n",
        "])\n",
        "\n",
        "@app.callback(\n",
        "    Output('summary-boxes', 'children'),\n",
        "    Output('fraud-trends', 'figure')\n",
        ")\n",
        "def update_dashboard():\n",
        "    total_transactions = fraud_data.shape[0]\n",
        "    total_frauds = fraud_data['class'].sum()\n",
        "    fraud_percentage = (total_frauds / total_transactions) * 100\n",
        "\n",
        "    summary_boxes = [\n",
        "        html.Div(f'Total Transactions: {total_transactions}'),\n",
        "        html.Div(f'Total Frauds: {total_frauds}'),\n",
        "        html.Div(f'Fraud Percentage: {fraud_percentage:.2f}%'),\n",
        "    ]\n",
        "\n",
        "    # Line chart of fraud trends over time\n",
        "    fraud_data['purchase_time'] = pd.to_datetime(fraud_data['purchase_time'])\n",
        "    fraud_trends = fraud_data.groupby(fraud_data['purchase_time'].dt.date)['class'].sum()\n",
        "    fraud_trends_fig = px.line(fraud_trends, x=fraud_trends.index, y=fraud_trends.values,\n",
        "                                labels={'x': 'Date', 'y': 'Fraud Cases'},\n",
        "                                title='Fraud Cases Over Time')\n",
        "\n",
        "    return summary_boxes, fraud_trends_fig\n",
        "\n",
        "if __name__ == '__main__':\n",
        "    app.run_server(debug=True)\n",
        "\"\"\"\n",
        "\n",
        "with open(\"dashboard.py\", \"w\") as f:\n",
        "    f.write(dashboard_code)\n",
        "\n",
        "print(\"Dashboard implementation is complete. You can run it using 'python dashboard.py'.\")\n"
      ],
      "metadata": {
        "colab": {
          "base_uri": "https://localhost:8080/"
        },
        "id": "RRLk20Pl2AhT",
        "outputId": "8c8189ef-9f23-4277-f48a-ed2938e248e0"
      },
      "execution_count": 5,
      "outputs": [
        {
          "output_type": "stream",
          "name": "stdout",
          "text": [
            "Dashboard implementation is complete. You can run it using 'python dashboard.py'.\n"
          ]
        }
      ]
    }
  ]
}